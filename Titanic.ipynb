{
 "cells": [
  {
   "cell_type": "markdown",
   "metadata": {},
   "source": [
    "# Kaggle Titanic Machine Learning Project"
   ]
  },
  {
   "cell_type": "markdown",
   "metadata": {},
   "source": [
    "## Import Libraries and Modules"
   ]
  },
  {
   "cell_type": "code",
   "execution_count": 137,
   "metadata": {},
   "outputs": [],
   "source": [
    "import numpy as np #Numpy for math operations\n",
    "from scipy.misc import imread, imsave, imresize #Scipy to change images\n",
    "from sklearn import datasets  #Scikit-learn for machine learning and modeling\n",
    "from sklearn import metrics \n",
    "from sklearn.tree import DecisionTreeClassifier\n",
    "import pandas as pd #Pandas for reading and writing files\n",
    "import matplotlib.pyplot as plt #Matplotlib to explore data with graphs\n",
    "from pathlib import Path #to find file paths\n",
    "import os #to get working directory\n",
    "from sklearn.linear_model import LogisticRegression #for a logistic regression function model"
   ]
  },
  {
   "cell_type": "markdown",
   "metadata": {},
   "source": [
    "## Import the data"
   ]
  },
  {
   "cell_type": "code",
   "execution_count": 138,
   "metadata": {},
   "outputs": [],
   "source": [
    "train_df = pd.read_csv(\"train.csv\") #read files from working directory into Pandas DataFrame\n",
    "test_df = pd.read_csv(\"test.csv\")"
   ]
  },
  {
   "cell_type": "markdown",
   "metadata": {},
   "source": [
    "## Investigate Data for NAs"
   ]
  },
  {
   "cell_type": "markdown",
   "metadata": {},
   "source": [
    "### For Train Data"
   ]
  },
  {
   "cell_type": "code",
   "execution_count": 139,
   "metadata": {},
   "outputs": [
    {
     "name": "stdout",
     "output_type": "stream",
     "text": [
      "The number of NA values in the column  PassengerId  is:  0 .\n",
      "The number of NA values in the column  Survived  is:  0 .\n",
      "The number of NA values in the column  Pclass  is:  0 .\n",
      "The number of NA values in the column  Name  is:  0 .\n",
      "The number of NA values in the column  Sex  is:  0 .\n",
      "The number of NA values in the column  Age  is:  177 .\n",
      "The number of NA values in the column  SibSp  is:  0 .\n",
      "The number of NA values in the column  Parch  is:  0 .\n",
      "The number of NA values in the column  Ticket  is:  0 .\n",
      "The number of NA values in the column  Fare  is:  0 .\n",
      "The number of NA values in the column  Cabin  is:  687 .\n",
      "The number of NA values in the column  Embarked  is:  2 .\n"
     ]
    }
   ],
   "source": [
    "col_names = train_df.columns #get column names\n",
    "train_dim = train_df.shape #dimensions of data row x col\n",
    "col_types = train_df.dtypes #what sort of data is in the column\n",
    "for i in col_names:\n",
    "    col = train_df[i] #selects column\n",
    "    num_NA = sum(col.isna()) #sums the number of NA values for selected column\n",
    "    print(\"The number of NA values in the column \", i, \" is: \", num_NA, \".\")"
   ]
  },
  {
   "cell_type": "markdown",
   "metadata": {},
   "source": [
    "### For Test Data"
   ]
  },
  {
   "cell_type": "code",
   "execution_count": 140,
   "metadata": {},
   "outputs": [
    {
     "name": "stdout",
     "output_type": "stream",
     "text": [
      "The number of NA values in the column  PassengerId  is:  0 .\n",
      "The number of NA values in the column  Pclass  is:  0 .\n",
      "The number of NA values in the column  Name  is:  0 .\n",
      "The number of NA values in the column  Sex  is:  0 .\n",
      "The number of NA values in the column  Age  is:  86 .\n",
      "The number of NA values in the column  SibSp  is:  0 .\n",
      "The number of NA values in the column  Parch  is:  0 .\n",
      "The number of NA values in the column  Ticket  is:  0 .\n",
      "The number of NA values in the column  Fare  is:  1 .\n",
      "The number of NA values in the column  Cabin  is:  327 .\n",
      "The number of NA values in the column  Embarked  is:  0 .\n"
     ]
    }
   ],
   "source": [
    "col_names = test_df.columns #get column names\n",
    "test_dim = test_df.shape #dimensions of data row x col\n",
    "col_types = test_df.dtypes #what sort of data is in the column\n",
    "for i in col_names:\n",
    "    col = test_df[i] #selects column\n",
    "    num_NA = sum(col.isna()) #sums the number of NA values for selected column\n",
    "    print(\"The number of NA values in the column \", i, \" is: \", num_NA, \".\")"
   ]
  },
  {
   "cell_type": "markdown",
   "metadata": {},
   "source": [
    "## Replace NAs and Remove Useless Columns"
   ]
  },
  {
   "cell_type": "markdown",
   "metadata": {},
   "source": [
    "### For Train data"
   ]
  },
  {
   "cell_type": "code",
   "execution_count": 141,
   "metadata": {},
   "outputs": [
    {
     "name": "stdout",
     "output_type": "stream",
     "text": [
      "The number of NA values in the column  PassengerId  is:  0 .\n",
      "The number of NA values in the column  Survived  is:  0 .\n",
      "The number of NA values in the column  Pclass  is:  0 .\n",
      "The number of NA values in the column  Name  is:  0 .\n",
      "The number of NA values in the column  Sex  is:  0 .\n",
      "The number of NA values in the column  Age  is:  0 .\n",
      "The number of NA values in the column  SibSp  is:  0 .\n",
      "The number of NA values in the column  Parch  is:  0 .\n",
      "The number of NA values in the column  Ticket  is:  0 .\n",
      "The number of NA values in the column  Fare  is:  0 .\n",
      "The number of NA values in the column  Embarked  is:  2 .\n"
     ]
    }
   ],
   "source": [
    "train_df = train_df.drop(columns = \"Cabin\") #remove Cabin variable\n",
    "col_names = train_df.columns #New column Names\n",
    "col_types = train_df.dtypes #New what type of data in the column\n",
    "train_df[\"Age\"] = train_df[\"Age\"].fillna(train_df[\"Age\"].mean()) #replace NA values with the column mean for Age\n",
    "for i in col_names:\n",
    "    col = train_df[i] #selects column\n",
    "    num_NA = sum(col.isna()) #sums the number of NA values for selected column\n",
    "    print(\"The number of NA values in the column \", i, \" is: \", num_NA, \".\")"
   ]
  },
  {
   "cell_type": "markdown",
   "metadata": {},
   "source": [
    "### For Test Data"
   ]
  },
  {
   "cell_type": "code",
   "execution_count": 142,
   "metadata": {},
   "outputs": [
    {
     "name": "stdout",
     "output_type": "stream",
     "text": [
      "The number of NA values in the column  PassengerId  is:  0 .\n",
      "The number of NA values in the column  Pclass  is:  0 .\n",
      "The number of NA values in the column  Name  is:  0 .\n",
      "The number of NA values in the column  Sex  is:  0 .\n",
      "The number of NA values in the column  Age  is:  0 .\n",
      "The number of NA values in the column  SibSp  is:  0 .\n",
      "The number of NA values in the column  Parch  is:  0 .\n",
      "The number of NA values in the column  Ticket  is:  0 .\n",
      "The number of NA values in the column  Fare  is:  1 .\n",
      "The number of NA values in the column  Embarked  is:  0 .\n"
     ]
    }
   ],
   "source": [
    "test_df = test_df.drop(columns = \"Cabin\") #remove Cabin variable\n",
    "col_names = test_df.columns #New column Names\n",
    "col_types = test_df.dtypes #New what type of data in the column\n",
    "test_df[\"Age\"] = test_df[\"Age\"].fillna(test_df[\"Age\"].mean()) #replace NA values with the column mean for Age\n",
    "for i in col_names:\n",
    "    col = test_df[i] #selects column\n",
    "    num_NA = sum(col.isna()) #sums the number of NA values for selected column\n",
    "    print(\"The number of NA values in the column \", i, \" is: \", num_NA, \".\")"
   ]
  },
  {
   "cell_type": "markdown",
   "metadata": {},
   "source": [
    "### Logistic Model to fill in Embarked Missing Vals in Train Data"
   ]
  },
  {
   "cell_type": "code",
   "execution_count": 143,
   "metadata": {},
   "outputs": [
    {
     "data": {
      "text/html": [
       "<div>\n",
       "<style scoped>\n",
       "    .dataframe tbody tr th:only-of-type {\n",
       "        vertical-align: middle;\n",
       "    }\n",
       "\n",
       "    .dataframe tbody tr th {\n",
       "        vertical-align: top;\n",
       "    }\n",
       "\n",
       "    .dataframe thead th {\n",
       "        text-align: right;\n",
       "    }\n",
       "</style>\n",
       "<table border=\"1\" class=\"dataframe\">\n",
       "  <thead>\n",
       "    <tr style=\"text-align: right;\">\n",
       "      <th></th>\n",
       "      <th>Survived</th>\n",
       "      <th>Pclass</th>\n",
       "      <th>Age</th>\n",
       "      <th>SibSp</th>\n",
       "      <th>Parch</th>\n",
       "      <th>Fare</th>\n",
       "      <th>Embarked</th>\n",
       "      <th>female</th>\n",
       "      <th>male</th>\n",
       "    </tr>\n",
       "  </thead>\n",
       "  <tbody>\n",
       "    <tr>\n",
       "      <th>0</th>\n",
       "      <td>0</td>\n",
       "      <td>3</td>\n",
       "      <td>22.0</td>\n",
       "      <td>1</td>\n",
       "      <td>0</td>\n",
       "      <td>7.2500</td>\n",
       "      <td>S</td>\n",
       "      <td>0</td>\n",
       "      <td>1</td>\n",
       "    </tr>\n",
       "    <tr>\n",
       "      <th>1</th>\n",
       "      <td>1</td>\n",
       "      <td>1</td>\n",
       "      <td>38.0</td>\n",
       "      <td>1</td>\n",
       "      <td>0</td>\n",
       "      <td>71.2833</td>\n",
       "      <td>C</td>\n",
       "      <td>1</td>\n",
       "      <td>0</td>\n",
       "    </tr>\n",
       "    <tr>\n",
       "      <th>2</th>\n",
       "      <td>1</td>\n",
       "      <td>3</td>\n",
       "      <td>26.0</td>\n",
       "      <td>0</td>\n",
       "      <td>0</td>\n",
       "      <td>7.9250</td>\n",
       "      <td>S</td>\n",
       "      <td>1</td>\n",
       "      <td>0</td>\n",
       "    </tr>\n",
       "    <tr>\n",
       "      <th>3</th>\n",
       "      <td>1</td>\n",
       "      <td>1</td>\n",
       "      <td>35.0</td>\n",
       "      <td>1</td>\n",
       "      <td>0</td>\n",
       "      <td>53.1000</td>\n",
       "      <td>S</td>\n",
       "      <td>1</td>\n",
       "      <td>0</td>\n",
       "    </tr>\n",
       "    <tr>\n",
       "      <th>4</th>\n",
       "      <td>0</td>\n",
       "      <td>3</td>\n",
       "      <td>35.0</td>\n",
       "      <td>0</td>\n",
       "      <td>0</td>\n",
       "      <td>8.0500</td>\n",
       "      <td>S</td>\n",
       "      <td>0</td>\n",
       "      <td>1</td>\n",
       "    </tr>\n",
       "  </tbody>\n",
       "</table>\n",
       "</div>"
      ],
      "text/plain": [
       "   Survived  Pclass   Age  SibSp  Parch     Fare Embarked  female  male\n",
       "0         0       3  22.0      1      0   7.2500        S       0     1\n",
       "1         1       1  38.0      1      0  71.2833        C       1     0\n",
       "2         1       3  26.0      0      0   7.9250        S       1     0\n",
       "3         1       1  35.0      1      0  53.1000        S       1     0\n",
       "4         0       3  35.0      0      0   8.0500        S       0     1"
      ]
     },
     "execution_count": 143,
     "metadata": {},
     "output_type": "execute_result"
    }
   ],
   "source": [
    "# Gotta remove string variables and make dummies for other ones\n",
    "sex_dummies = pd.get_dummies(train_df[\"Sex\"])\n",
    "train_df[list(sex_dummies)] = sex_dummies\n",
    "log_train_df = train_df.drop(columns = [\"PassengerId\", \"Name\", \"Ticket\", \"Sex\"])\n",
    "log_train_df.head()"
   ]
  },
  {
   "cell_type": "code",
   "execution_count": 146,
   "metadata": {},
   "outputs": [
    {
     "data": {
      "text/plain": [
       "array(['S', 'S'], dtype=object)"
      ]
     },
     "execution_count": 146,
     "metadata": {},
     "output_type": "execute_result"
    }
   ],
   "source": [
    "# Separate Data into train and test\n",
    "log_mod_train = log_train_df.loc[train_df[\"Embarked\"].isna() == False]\n",
    "log_mod_test = log_train_df.loc[train_df[\"Embarked\"].isna() == True]\n",
    "log_mod_test\n",
    "\n",
    "# Separate Train and test into input/output \n",
    "x_train = log_mod_train.drop(columns = \"Embarked\")\n",
    "y_train = log_mod_train[\"Embarked\"]\n",
    "x_test = log_mod_test.drop(columns = \"Embarked\")\n",
    "\n",
    "#define the model for reference visit: https://scikit-learn.org/stable/modules/generated/sklearn.linear_model.LogisticRegression.html#sklearn.linear_model.LogisticRegression\n",
    "log_mod = LogisticRegression(solver='lbfgs', multi_class='multinomial', max_iter = 1000) #use lbfgs for multiple classification prediction, \n",
    "\n",
    "#fit the data\n",
    "log_fit = log_mod.fit(x_train, y_train)\n",
    "\n",
    "#make predictions\n",
    "log_pred = log_fit.predict(x_test)\n",
    "log_pred"
   ]
  },
  {
   "cell_type": "code",
   "execution_count": 147,
   "metadata": {},
   "outputs": [],
   "source": [
    "#Put the predictions into the dataframe in place of NAs\n",
    "#this method is not functioning\n",
    "counter = 0\n",
    "for index, row in train_df.iterrows():\n",
    "    if pd.isnull(row[\"Embarked\"]): #use pd.isnull(something) to check if a string object is type None or NaN\n",
    "        row[\"Embarked\"] = log_pred[counter]\n",
    "        counter += 1\n",
    "#train_df[\"Embarked\"].replace(to_replace = np.nan, value = \"S\")\n"
   ]
  },
  {
   "cell_type": "code",
   "execution_count": 148,
   "metadata": {},
   "outputs": [],
   "source": [
    "train_df.loc[829, \"Embarked\"] = \"S\"\n",
    "train_df.loc[61, \"Embarked\"] = \"S\""
   ]
  },
  {
   "cell_type": "code",
   "execution_count": 149,
   "metadata": {},
   "outputs": [
    {
     "name": "stdout",
     "output_type": "stream",
     "text": [
      "The number of NA values in the column  PassengerId  is:  0 .\n",
      "The number of NA values in the column  Survived  is:  0 .\n",
      "The number of NA values in the column  Pclass  is:  0 .\n",
      "The number of NA values in the column  Name  is:  0 .\n",
      "The number of NA values in the column  Sex  is:  0 .\n",
      "The number of NA values in the column  Age  is:  0 .\n",
      "The number of NA values in the column  SibSp  is:  0 .\n",
      "The number of NA values in the column  Parch  is:  0 .\n",
      "The number of NA values in the column  Ticket  is:  0 .\n",
      "The number of NA values in the column  Fare  is:  0 .\n",
      "The number of NA values in the column  Embarked  is:  0 .\n",
      "The number of NA values in the column  female  is:  0 .\n",
      "The number of NA values in the column  male  is:  0 .\n"
     ]
    }
   ],
   "source": [
    "col_names = train_df.columns #New column Names\n",
    "col_types = train_df.dtypes #New what type of data in the column\n",
    "#train_df[\"Age\"] = train_df[\"Age\"].fillna(train_df[\"Age\"].mean()) #replace NA values with the column mean for Age\n",
    "for i in col_names:\n",
    "    col = train_df[i] #selects column\n",
    "    num_NA = sum(col.isna()) #sums the number of NA values for selected column\n",
    "    print(\"The number of NA values in the column \", i, \" is: \", num_NA, \".\")"
   ]
  },
  {
   "cell_type": "markdown",
   "metadata": {},
   "source": [
    "### Linear Model to predict Fare for NA in Test Data"
   ]
  },
  {
   "cell_type": "code",
   "execution_count": 150,
   "metadata": {},
   "outputs": [],
   "source": [
    "#actually lets just do average fare\n",
    "test_df[\"Fare\"] = test_df[\"Fare\"].fillna(test_df[\"Fare\"].mean())"
   ]
  },
  {
   "cell_type": "markdown",
   "metadata": {},
   "source": [
    "## Logistic Model"
   ]
  },
  {
   "cell_type": "code",
   "execution_count": 155,
   "metadata": {},
   "outputs": [
    {
     "name": "stdout",
     "output_type": "stream",
     "text": [
      "The number of NA values in the column  Pclass  is:  0 .\n",
      "The number of NA values in the column  Age  is:  0 .\n",
      "The number of NA values in the column  SibSp  is:  0 .\n",
      "The number of NA values in the column  Parch  is:  0 .\n",
      "The number of NA values in the column  Fare  is:  0 .\n",
      "The number of NA values in the column  Embarked  is:  0 .\n",
      "The number of NA values in the column  female  is:  0 .\n",
      "The number of NA values in the column  male  is:  0 .\n"
     ]
    }
   ],
   "source": [
    "#divide data set into input/output\n",
    "train_x = train_df.drop(columns = [\"Survived\", \"PassengerId\", \"Name\", \"Sex\", \"Ticket\"])\n",
    "train_y = train_df[\"Survived\"]\n",
    "\n",
    "sex_dummies = pd.get_dummies(test_df[\"Sex\"])\n",
    "test_df[list(sex_dummies)] = sex_dummies\n",
    "test_x = test_df.drop(columns = [\"PassengerId\", \"Name\", \"Sex\", \"Ticket\"])\n",
    "\n",
    "col_names = test_x.columns #New column Names\n",
    "col_types = test_x.dtypes #New what type of data in the column\n",
    "#train_df[\"Age\"] = train_df[\"Age\"].fillna(train_df[\"Age\"].mean()) #replace NA values with the column mean for Age\n",
    "for i in col_names:\n",
    "    col = test_x[i] #selects column\n",
    "    num_NA = sum(col.isna()) #sums the number of NA values for selected column\n",
    "    print(\"The number of NA values in the column \", i, \" is: \", num_NA, \".\")"
   ]
  },
  {
   "cell_type": "markdown",
   "metadata": {},
   "source": [
    "### Change Embarked to Numeric"
   ]
  },
  {
   "cell_type": "code",
   "execution_count": 159,
   "metadata": {},
   "outputs": [
    {
     "data": {
      "text/plain": [
       "0      1\n",
       "1      3\n",
       "2      1\n",
       "3      1\n",
       "4      1\n",
       "5      2\n",
       "6      1\n",
       "7      1\n",
       "8      1\n",
       "9      3\n",
       "10     1\n",
       "11     1\n",
       "12     1\n",
       "13     1\n",
       "14     1\n",
       "15     1\n",
       "16     2\n",
       "17     1\n",
       "18     1\n",
       "19     3\n",
       "20     1\n",
       "21     1\n",
       "22     2\n",
       "23     1\n",
       "24     1\n",
       "25     1\n",
       "26     3\n",
       "27     1\n",
       "28     2\n",
       "29     1\n",
       "      ..\n",
       "861    1\n",
       "862    1\n",
       "863    1\n",
       "864    1\n",
       "865    1\n",
       "866    3\n",
       "867    1\n",
       "868    1\n",
       "869    1\n",
       "870    1\n",
       "871    1\n",
       "872    1\n",
       "873    1\n",
       "874    3\n",
       "875    3\n",
       "876    1\n",
       "877    1\n",
       "878    1\n",
       "879    3\n",
       "880    1\n",
       "881    1\n",
       "882    1\n",
       "883    1\n",
       "884    1\n",
       "885    2\n",
       "886    1\n",
       "887    1\n",
       "888    1\n",
       "889    3\n",
       "890    2\n",
       "Name: Embarked, Length: 891, dtype: int64"
      ]
     },
     "execution_count": 159,
     "metadata": {},
     "output_type": "execute_result"
    }
   ],
   "source": [
    "labels = [\"S\", \"Q\", \"C\"]\n",
    "replace = [1, 2, 3]\n",
    "for r in replace:\n",
    "    train_x[\"Embarked\"] = train_x[\"Embarked\"].replace(labels[r-1], r)\n",
    "    test_x[\"Embarked\"] = test_x[\"Embarked\"].replace(labels[r-1], r)\n",
    "    \n",
    "train_x[\"Embarked\"]\n"
   ]
  },
  {
   "cell_type": "code",
   "execution_count": 162,
   "metadata": {},
   "outputs": [
    {
     "ename": "AttributeError",
     "evalue": "'numpy.ndarray' object has no attribute 'to_csv'",
     "output_type": "error",
     "traceback": [
      "\u001b[1;31m---------------------------------------------------------------------------\u001b[0m",
      "\u001b[1;31mAttributeError\u001b[0m                            Traceback (most recent call last)",
      "\u001b[1;32m<ipython-input-162-408d90da3100>\u001b[0m in \u001b[0;36m<module>\u001b[1;34m\u001b[0m\n\u001b[0;32m      6\u001b[0m \u001b[1;33m\u001b[0m\u001b[0m\n\u001b[0;32m      7\u001b[0m \u001b[0mlog_pred\u001b[0m \u001b[1;33m=\u001b[0m \u001b[0mlog_fit\u001b[0m\u001b[1;33m.\u001b[0m\u001b[0mpredict\u001b[0m\u001b[1;33m(\u001b[0m\u001b[0mtest_x\u001b[0m\u001b[1;33m)\u001b[0m\u001b[1;33m\u001b[0m\u001b[1;33m\u001b[0m\u001b[0m\n\u001b[1;32m----> 8\u001b[1;33m \u001b[0mlog_pred\u001b[0m\u001b[1;33m.\u001b[0m\u001b[0mto_csv\u001b[0m\u001b[1;33m(\u001b[0m\u001b[0mindex\u001b[0m \u001b[1;33m=\u001b[0m \u001b[1;32mFalse\u001b[0m\u001b[1;33m)\u001b[0m\u001b[1;33m\u001b[0m\u001b[1;33m\u001b[0m\u001b[0m\n\u001b[0m",
      "\u001b[1;31mAttributeError\u001b[0m: 'numpy.ndarray' object has no attribute 'to_csv'"
     ]
    }
   ],
   "source": [
    "#define the model\n",
    "log_mod = LogisticRegression(solver='lbfgs', multi_class='multinomial', max_iter = 1000) #use lbfgs for multiple classification prediction, \n",
    "\n",
    "#fit the training data\n",
    "log_fit = log_mod.fit(train_x, train_y)\n",
    "\n",
    "log_pred = log_fit.predict(test_x)\n",
    "log_pred.to_csv(index = False)"
   ]
  },
  {
   "cell_type": "code",
   "execution_count": null,
   "metadata": {},
   "outputs": [],
   "source": []
  }
 ],
 "metadata": {
  "kernelspec": {
   "display_name": "Python 3",
   "language": "python",
   "name": "python3"
  },
  "language_info": {
   "codemirror_mode": {
    "name": "ipython",
    "version": 3
   },
   "file_extension": ".py",
   "mimetype": "text/x-python",
   "name": "python",
   "nbconvert_exporter": "python",
   "pygments_lexer": "ipython3",
   "version": "3.7.3"
  }
 },
 "nbformat": 4,
 "nbformat_minor": 2
}
